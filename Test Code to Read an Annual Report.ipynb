{
 "cells": [
  {
   "cell_type": "code",
   "execution_count": 40,
   "id": "91910a4a-e12d-40eb-b70c-7410e1abd2bc",
   "metadata": {},
   "outputs": [],
   "source": [
    "#imports\n",
    "\n",
    "import os\n",
    "import requests\n",
    "import json\n",
    "from typing import List\n",
    "from dotenv import load_dotenv\n",
    "from openai import OpenAI\n",
    "import pdfplumber\n",
    "import re"
   ]
  },
  {
   "cell_type": "code",
   "execution_count": 26,
   "id": "2c2ec44f-e5a3-4716-91f9-3347db0c7636",
   "metadata": {},
   "outputs": [
    {
     "name": "stdout",
     "output_type": "stream",
     "text": [
      "API key looks good so far\n"
     ]
    }
   ],
   "source": [
    "#initialize and constants\n",
    "\n",
    "load_dotenv(override=True)\n",
    "api_key = os.getenv('OPENAI_API_KEY')\n",
    "\n",
    "if api_key and api_key.startswith('sk-proj-') and len(api_key)>10:\n",
    "    print(\"API key looks good so far\")\n",
    "else:\n",
    "    print(\"There might be a problem with your API key? Please visit the troubleshooting notebook!\")\n",
    "    \n",
    "MODEL = 'gpt-4o-mini'\n",
    "openai = OpenAI()"
   ]
  },
  {
   "cell_type": "code",
   "execution_count": 17,
   "id": "af4462ce-4e2b-4bb4-8a26-3b48c4f72f4b",
   "metadata": {},
   "outputs": [],
   "source": [
    "def extract_text_with_pdfplumber(pdf_path):\n",
    "    text = \"\"\n",
    "    with pdfplumber.open(pdf_path) as pdf:\n",
    "        for page in pdf.pages:\n",
    "            text += page.extract_text() + \"\\n\"\n",
    "    return text"
   ]
  },
  {
   "cell_type": "code",
   "execution_count": 18,
   "id": "74caba84-9559-4374-8a95-6faae43a0aaa",
   "metadata": {},
   "outputs": [],
   "source": [
    "pdf_path = r\"C:\\Users\\adity\\Downloads\\Annual_Report.pdf\""
   ]
  },
  {
   "cell_type": "code",
   "execution_count": 35,
   "id": "e8386a8d-0ec9-472b-b0c4-a3d3a23046c9",
   "metadata": {},
   "outputs": [],
   "source": [
    "system_prompt = \"\"\"You are an expert in financial analysis and insurance industry reporting. \n",
    "Your task is to summarize the annual report of an insurance company in a clear, concise, and structured manner. \n",
    "Focus on key financial metrics, business performance, and solvency indicators.\n",
    "\n",
    "Extract and present the following insights:\n",
    "1️⃣ Financial Performance:\n",
    "   - Gross Written Premium (GWP), Net Written Premium (NWP), and New Premiums\n",
    "   - Claims Incurred, Claims Reserves, and Loss Ratio (%)\n",
    "   - Underwriting Profit/Loss and Combined Ratio (%)\n",
    "   - Investment Income and Net Profit (Bottom Line)\n",
    "\n",
    "2️⃣ Solvency & Capital Strength:\n",
    "   - Solvency Ratio (%) and Risk-Based Capital (RBC) Ratio\n",
    "   - Return on Equity (ROE) and Debt-to-Equity (D/E) Ratio\n",
    "\n",
    "3️⃣ Business Growth & Market Insights:\n",
    "   - Policyholder Growth and Retention Rate (%)\n",
    "   - Performance of Distribution Channels\n",
    "   - Market Share and Competitive Position\n",
    "\n",
    "4️⃣ Regulatory & Risk Indicators:\n",
    "   - Reinsurance Dependence and Liquidity Ratio (%)\n",
    "   - Statutory Reserves and Capital Requirements\n",
    "\n",
    "Ensure the summary is well-structured, objective, and highlights key trends or risks. \n",
    "Format the output in sections with bullet points or concise paragraphs. \n",
    "Avoid unnecessary details but ensure all critical insights are covered.\n",
    "\"\"\""
   ]
  },
  {
   "cell_type": "code",
   "execution_count": 36,
   "id": "cc80cc6d-9002-4fc5-9511-0d031c058a1a",
   "metadata": {},
   "outputs": [],
   "source": [
    "def summarize_text(text):\n",
    "    prompt = f\"Summarize the following insurance company annual report in a concise and structured format:\\n\\n{text[:3000]}\"  # Limiting to 3000 chars\n",
    "    response = openai.chat.completions.create(\n",
    "        model=MODEL,\n",
    "        messages=[{\"role\": \"system\", \"content\": system_prompt},\n",
    "                  {\"role\": \"user\", \"content\": prompt}],\n",
    "        temperature=0.7\n",
    "    )\n",
    "    return response.choices[0].message.content"
   ]
  },
  {
   "cell_type": "code",
   "execution_count": 22,
   "id": "ab7f31ee-e653-4773-91e3-51e6fcdaa06a",
   "metadata": {},
   "outputs": [],
   "source": [
    "pdf_text = extract_text_with_pdfplumber(pdf_path)"
   ]
  },
  {
   "cell_type": "code",
   "execution_count": 37,
   "id": "8c1c4744-039c-4420-9650-a0fe610ec178",
   "metadata": {},
   "outputs": [],
   "source": [
    "summary = summarize_text(pdf_text)"
   ]
  },
  {
   "cell_type": "code",
   "execution_count": 39,
   "id": "9f185945-873d-47b1-940f-bfa290e1a97f",
   "metadata": {},
   "outputs": [
    {
     "name": "stdout",
     "output_type": "stream",
     "text": [
      "# HDFC Life Annual Report Summary 2023-24\n",
      "\n",
      "## 1️⃣ Financial Performance:\n",
      "- **Gross Written Premium (GWP)**: [Insert Value]\n",
      "- **Net Written Premium (NWP)**: [Insert Value]\n",
      "- **Earned Premiums**: [Insert Value]\n",
      "  \n",
      "- **Claims Incurred**: [Insert Value]\n",
      "- **Claims Reserves**: [Insert Value]\n",
      "- **Loss Ratio**: [Insert %]\n",
      "  \n",
      "- **Underwriting Profit/Loss**: [Insert Value]\n",
      "- **Combined Ratio**: [Insert %]\n",
      "  \n",
      "- **Investment Income**: [Insert Value]\n",
      "- **Net Profit (Bottom Line)**: [Insert Value]\n",
      "\n",
      "## 2️⃣ Solvency & Capital Strength:\n",
      "- **Solvency Ratio**: [Insert %]\n",
      "- **Risk-Based Capital (RBC) Ratio**: [Insert Value]\n",
      "  \n",
      "- **Return on Equity (ROE)**: [Insert %]\n",
      "- **Debt-to-Equity (D/E) Ratio**: [Insert Value]\n",
      "\n",
      "## 3️⃣ Business Growth & Market Insights:\n",
      "- **Policyholder Growth**: [Insert Value]\n",
      "- **Retention Rate**: [Insert %]\n",
      "  \n",
      "- **Performance of Distribution Channels**: [Insert Insights]\n",
      "- **Market Share**: [Insert %]\n",
      "- **Competitive Position**: [Insert Insights]\n",
      "\n",
      "## 4️⃣ Regulatory & Risk Indicators:\n",
      "- **Reinsurance Dependence**: [Insert Value]\n",
      "- **Liquidity Ratio**: [Insert %]\n",
      "  \n",
      "- **Statutory Reserves**: [Insert Value]\n",
      "- **Capital Requirements**: [Insert Value]\n",
      "\n",
      "---\n",
      "\n",
      "### Key Trends and Risks:\n",
      "- **Trends**: Highlight any notable trends in premium growth, claims management, or investment performance.\n",
      "- **Risks**: Identify any significant risks related to market conditions, regulatory changes, or operational challenges.\n",
      "\n",
      "### Overall Assessment:\n",
      "HDFC Life continues to focus on sustainable value creation, showcasing steady financial performance and robust solvency indicators. The company remains committed to its strategic pillars while addressing stakeholder concerns and enhancing its position in the insurance market.\n"
     ]
    }
   ],
   "source": [
    "print (summary)"
   ]
  },
  {
   "cell_type": "code",
   "execution_count": 41,
   "id": "b3bc480c-e582-45fd-bc3e-25248a3f64ae",
   "metadata": {},
   "outputs": [],
   "source": [
    "def extract_number(text, label):\n",
    "    \"\"\"Extracts numbers appearing after a given label in the text.\"\"\"\n",
    "    match = re.search(rf\"{label}[:\\s]*([\\d,.]+)\", text, re.IGNORECASE)\n",
    "    return match.group(1) if match else \"Not Found\"\n",
    "\n",
    "gwp = extract_number(pdf_text, \"Gross Written Premium\")\n",
    "nwp = extract_number(pdf_text, \"Net Written Premium\")"
   ]
  },
  {
   "cell_type": "code",
   "execution_count": 42,
   "id": "29ebf0f7-f638-4b63-afb7-48101c6d8fa7",
   "metadata": {},
   "outputs": [
    {
     "name": "stdout",
     "output_type": "stream",
     "text": [
      "13,472\n"
     ]
    }
   ],
   "source": [
    "print (gwp)"
   ]
  },
  {
   "cell_type": "code",
   "execution_count": 43,
   "id": "6a5b62f4-d050-4e48-9a9c-bc6262a4c192",
   "metadata": {},
   "outputs": [
    {
     "name": "stdout",
     "output_type": "stream",
     "text": [
      "Not Found\n"
     ]
    }
   ],
   "source": [
    "print (nwp)\n"
   ]
  },
  {
   "cell_type": "code",
   "execution_count": null,
   "id": "3a7526b9-90f4-4b43-a30d-d6c329ab7904",
   "metadata": {},
   "outputs": [],
   "source": []
  }
 ],
 "metadata": {
  "kernelspec": {
   "display_name": "Python 3 (ipykernel)",
   "language": "python",
   "name": "python3"
  },
  "language_info": {
   "codemirror_mode": {
    "name": "ipython",
    "version": 3
   },
   "file_extension": ".py",
   "mimetype": "text/x-python",
   "name": "python",
   "nbconvert_exporter": "python",
   "pygments_lexer": "ipython3",
   "version": "3.11.11"
  }
 },
 "nbformat": 4,
 "nbformat_minor": 5
}
